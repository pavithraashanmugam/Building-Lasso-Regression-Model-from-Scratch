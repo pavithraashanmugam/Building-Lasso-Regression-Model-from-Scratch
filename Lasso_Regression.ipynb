{
  "nbformat": 4,
  "nbformat_minor": 0,
  "metadata": {
    "colab": {
      "provenance": []
    },
    "kernelspec": {
      "name": "python3",
      "display_name": "Python 3"
    },
    "language_info": {
      "name": "python"
    }
  },
  "cells": [
    {
      "cell_type": "markdown",
      "source": [
        "Importing Dependencies"
      ],
      "metadata": {
        "id": "jg9hAADYpMIb"
      }
    },
    {
      "cell_type": "code",
      "source": [
        "import numpy as np"
      ],
      "metadata": {
        "id": "g7UFM7JwpNDp"
      },
      "execution_count": 1,
      "outputs": []
    },
    {
      "cell_type": "markdown",
      "source": [
        "Lasso Regression"
      ],
      "metadata": {
        "id": "hUfEI0fMpp10"
      }
    },
    {
      "cell_type": "code",
      "execution_count": null,
      "metadata": {
        "id": "dgwlQY6n8HoU"
      },
      "outputs": [],
      "source": [
        "# creating a class for Lasso Regression\n",
        "class Lasso_Regression():\n",
        "\n",
        "# initiating hyper parameters\n",
        "def __init__(self,learning_rate,no_of_iterations, lambda_parameter):\n",
        "   self.learning_rate = learning_rate\n",
        "   self.no_of_iterations = no_of_iterations\n",
        "   self.lambda_parameter = lambda_parameter\n",
        "\n",
        "# fitting the dataset to the lasso regression model\n",
        "def fit(self, X, Y):\n",
        "  self.m,self.n = X.shape\n",
        "  self.w = np.zeros(self.n)\n",
        "  self.b = 0\n",
        "  self.X = X\n",
        "  self.Y = Y\n",
        "  for i in range(self.no_of_iterations):\n",
        "    self.update_weights()\n",
        "\n",
        "# function for updating the weight & bias value\n",
        "def update_weights(self):\n",
        "  #linear equation of the model\n",
        "  Y_prediction = self.predict(self.X)\n",
        "\n",
        "  #gradient for weight\n",
        "  dw = np.zeros(self.n)\n",
        "\n",
        "  #gradients (dw, db)\n",
        "  for i in range(self.n):\n",
        "    if self.w[i]>0:\n",
        "      dw[i] = (-(2*(self.X[:,i]).dot(self.Y-Y_predict))+ self.lambda_parameter)/self.m\n",
        "\n",
        "    else:\n",
        "      dw[i] = (-(2*(self.X[:,i]).dot(self.Y-Y_predict))- self.lambda_parameter)/self.m\n",
        "\n",
        "  #gradient for bias\n",
        "  db = -2 * np.sum(self.Y - Y_prediction)/ self.m\n",
        "\n",
        "  #updating weight & bias\n",
        "  self.w = self.w - self.learning_rate * dw\n",
        "  self.b = self.b - self.learning_rate * db\n",
        "\n",
        "\n",
        "\n",
        "\n",
        "# to predict the target variable\n",
        "def predict(self,X):\n",
        "  return X.dot(self.w)+self.b\n",
        "\n"
      ]
    },
    {
      "cell_type": "code",
      "source": [
        "model = Lasso_Regression()"
      ],
      "metadata": {
        "id": "m9gnkR40qhmo"
      },
      "execution_count": null,
      "outputs": []
    }
  ]
}